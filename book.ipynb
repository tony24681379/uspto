{
 "cells": [
  {
   "cell_type": "code",
   "execution_count": null,
   "metadata": {},
   "outputs": [],
   "source": [
    "import requests\n",
    "term='(\"stylus+pen\"+OR+\"electronic+stylus\")+AND+coil'\n",
    "page=1\n",
    "url = 'https://patft.uspto.gov/netacgi/nph-Parser?Sect1=PTO2&Sect2=HITOFF&p='+str(page)+'&u=%2Fnetahtml%2FPTO%2Fsearch-adv.htm&r=0&f=S&l=50&d=PTXT&Query='+term\n",
    "headers = {\n",
    "    \"User-Agent\" : \"Mozilla/5.0 (X11; Linux x86_64) AppleWebKit/537.36 (KHTML, like Gecko) Chrome/51.0.2704.103 Safari/537.36\"\n",
    "}\n",
    "print(url)\n",
    "page = requests.get(url, headers=headers)\n",
    "print(page.text)"
   ]
  },
  {
   "cell_type": "code",
   "execution_count": null,
   "metadata": {},
   "outputs": [],
   "source": [
    "from bs4 import BeautifulSoup\n",
    "import re\n",
    "\n",
    "soup = BeautifulSoup(page.text, 'html.parser')\n",
    "table = soup.find_all('table')[1]\n",
    "links = table.find_all(href=re.compile(\"/netacgi/nph-Parser\\?Sect1=PTO2&Sect2=\"))\n",
    "i = 0\n",
    "add = []\n",
    "for row in links:\n",
    "    i += 1\n",
    "    if i % 2 == 0:\n",
    "        add.append(row.attrs.get('href'))\n",
    "print(add)"
   ]
  },
  {
   "cell_type": "code",
   "execution_count": 138,
   "metadata": {},
   "outputs": [
    {
     "name": "stdout",
     "output_type": "stream",
     "text": [
      "https://patft.uspto.gov/netacgi/nph-Parser?Sect1=PTO2&Sect2=HITOFF&p=1&u=%2Fnetahtml%2FPTO%2Fsearch-adv.htm&r=48&f=G&l=50&d=PTXT&S1=((%22stylus+pen%22+OR+%22electronic+stylus%22)+AND+coil)&OS=+(%22stylus+pen%22+OR+%22electronic+stylus%22)+AND+coil&RS=((%22stylus+pen%22+OR+%22electronic+stylus%22)+AND+coil)\n"
     ]
    }
   ],
   "source": [
    "import requests\n",
    "from bs4 import BeautifulSoup\n",
    "\n",
    "url = 'https://patft.uspto.gov/netacgi/nph-Parser?Sect1=PTO2&Sect2=HITOFF&p=1&u=%2Fnetahtml%2FPTO%2Fsearch-adv.htm&r=48&f=G&l=50&d=PTXT&S1=((%22stylus+pen%22+OR+%22electronic+stylus%22)+AND+coil)&OS=+(%22stylus+pen%22+OR+%22electronic+stylus%22)+AND+coil&RS=((%22stylus+pen%22+OR+%22electronic+stylus%22)+AND+coil)'\n",
    "headers = {\n",
    "    \"User-Agent\" : \"Mozilla/5.0 (X11; Linux x86_64) AppleWebKit/537.36 (KHTML, like Gecko) Chrome/51.0.2704.103 Safari/537.36\"\n",
    "}\n",
    "print(url)\n",
    "html = requests.get(url, headers=headers)\n",
    "soup = BeautifulSoup(html.text, 'html.parser')"
   ]
  },
  {
   "cell_type": "code",
   "execution_count": 139,
   "metadata": {},
   "outputs": [
    {
     "name": "stdout",
     "output_type": "stream",
     "text": [
      "11,223,108 January 11, 2022 Mobile terminal H04B 5/0037 (20130101); H04M 1/0266 (20130101); H04B 5/0031 (20130101); H04M 1/026 (20130101); G06F 1/1652 (20130101); H04W 4/80 (20180201); H01Q 1/243 (20130101); G06F 3/0412 (20130101); H04B 5/0081 (20130101); G06Q 20/3278 (20130101); H04M 1/0268 (20130101); H04M 1/0235 (20130101) March 23, 2020 LG ELECTRONICS INC. (Seoul, KR)\n"
     ]
    }
   ],
   "source": [
    "soup = BeautifulSoup(html.text, 'html.parser')\n",
    "\n",
    "num = soup.find_all('table')[2].find_all('b')[1].string.strip()\n",
    "date = soup.find_all('table')[2].find_all('b')[3].string.strip()\n",
    "title = soup.find_all('font')[3].string.strip()\n",
    "abstract = soup.find_all('p')[0].get_text(strip=True).replace('\\n', '').replace('  ', '')\n",
    "\n",
    "target = soup.find_all('p')[1]\n",
    "claim = BeautifulSoup(str(target)[str(target).index('<center><b><i>Claims</i></b></center>')+38:str(target).index('<center><b><i>Description</i></b></center>')]).get_text().replace('\\n', ' ')\n",
    "description = BeautifulSoup(str(target)[str(target).index('<center><b><i>Description</i></b></center>')+43:str(target).index('<center><b>* * * * *</b></center>')]).get_text().replace('\\n', ' ')\n",
    "\n",
    "international_class = soup.find_all('table')[7].find_all('td')[3].get_text().replace('\\xa0', ' ')\n",
    "filed_date = soup.find_all('td', align='left',width='90%')[-1].get_text().replace('\\n', '')\n",
    "assignee = soup.find_all('td', align='left',width='90%')[2].get_text().replace('\\n', '')\n",
    "print(num, date, title, international_class, filed_date, assignee)\n",
    "\n",
    "# target = soup.find_all('p')[1]\n",
    "\n",
    "# target"
   ]
  }
 ],
 "metadata": {
  "interpreter": {
   "hash": "aee8b7b246df8f9039afb4144a1f6fd8d2ca17a180786b69acc140d282b71a49"
  },
  "kernelspec": {
   "display_name": "Python 3.9.10 64-bit",
   "language": "python",
   "name": "python3"
  },
  "language_info": {
   "codemirror_mode": {
    "name": "ipython",
    "version": 3
   },
   "file_extension": ".py",
   "mimetype": "text/x-python",
   "name": "python",
   "nbconvert_exporter": "python",
   "pygments_lexer": "ipython3",
   "version": "3.9.10"
  },
  "orig_nbformat": 4
 },
 "nbformat": 4,
 "nbformat_minor": 2
}
